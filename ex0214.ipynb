{
 "cells": [
  {
   "cell_type": "code",
   "execution_count": null,
   "id": "d6d60a97",
   "metadata": {},
   "outputs": [],
   "source": [
    "import requests as req\n",
    "res = req.get('http://ggoreb.com/quiz/encrypt_string.txt')\n",
    "text = res.text\n",
    "# print(text)\n",
    "\n",
    "a = [ord(i) for i in text]\n",
    "list1=[]\n",
    "for i in text:\n",
    "    num = ord(i)\n",
    "    if  num == 123:\n",
    "        num = num-26\n",
    "    if num == 124:\n",
    "        num = num-26\n",
    "    list1.append(num)\n",
    "# b = [chr(int(j)+2) for j in a ]\n",
    "# print(b,end='')\n",
    "\n",
    "for j in list1:\n",
    "    res = chr(int(j)+2)\n",
    "    print(res,end=\"\")"
   ]
  },
  {
   "cell_type": "code",
   "execution_count": 12,
   "id": "85718f31",
   "metadata": {},
   "outputs": [
    {
     "name": "stdout",
     "output_type": "stream",
     "text": [
      "i hope you didnt translate it by hand. thats what computers are for. doing it in by hand is inefficient and that's why this text is so long. using string.maketrans() is recommended. now apply on the url."
     ]
    }
   ],
   "source": [
    "import requests as req\n",
    "res = req.get('http://ggoreb.com/quiz/encrypt_string.txt')\n",
    "text = res.text\n",
    "# print(text)\n",
    "for t in text:\n",
    "    if t>='a' and t<='z':\n",
    "        change_t =ord(t)+2\n",
    "        if change_t > ord('z'):\n",
    "            change_t-=26\n",
    "        print(chr(change_t),end=\"\")\n",
    "    else:\n",
    "        print(t,end=\"\")"
   ]
  },
  {
   "cell_type": "code",
   "execution_count": 15,
   "id": "a6dba39a",
   "metadata": {},
   "outputs": [
    {
     "ename": "SyntaxError",
     "evalue": "unterminated string literal (detected at line 2) (1572833777.py, line 2)",
     "output_type": "error",
     "traceback": [
      "\u001b[1;36m  Cell \u001b[1;32mIn[15], line 2\u001b[1;36m\u001b[0m\n\u001b[1;33m    if t in '\\'.()\"{}\":\u001b[0m\n\u001b[1;37m            ^\u001b[0m\n\u001b[1;31mSyntaxError\u001b[0m\u001b[1;31m:\u001b[0m unterminated string literal (detected at line 2)\n"
     ]
    }
   ],
   "source": [
    "for t in text:\n",
    "    if t in'\\'.()\"{}\":\n",
    "        print(t,end=\"\")\n",
    "    else:\n",
    "        print(chr(ord(t)+2), end='')\n"
   ]
  },
  {
   "cell_type": "code",
   "execution_count": 25,
   "id": "b13e50a5",
   "metadata": {},
   "outputs": [],
   "source": [
    "obj=[chr(i) for i in range(ord('a'),(ord('z')+1))]\n",
    "obj = ''.join(obj)\n",
    "obj1 = obj[2:]+obj[:2]\n",
    "obj1 = ''.join(obj1)\n"
   ]
  },
  {
   "cell_type": "code",
   "execution_count": 26,
   "id": "8598cf92",
   "metadata": {},
   "outputs": [
    {
     "data": {
      "text/plain": [
       "\"i hope you didnt translate it by hand. thats what computers are for. doing it in by hand is inefficient and that's why this text is so long. using string.maketrans() is recommended. now apply on the url.\""
      ]
     },
     "execution_count": 26,
     "metadata": {},
     "output_type": "execute_result"
    }
   ],
   "source": [
    "obj = ''.maketrans(obj,obj1)\n",
    "text.translate(obj)"
   ]
  },
  {
   "cell_type": "raw",
   "id": "17aa63cf",
   "metadata": {},
   "source": [
    "f = open('test.txt','r',encoding='utf-8')\n",
    "text = f.read()\n",
    "f.close()\n",
    "    "
   ]
  },
  {
   "cell_type": "code",
   "execution_count": 105,
   "id": "51db1932",
   "metadata": {},
   "outputs": [
    {
     "data": {
      "text/plain": [
       "'1번째\\n'"
      ]
     },
     "execution_count": 105,
     "metadata": {},
     "output_type": "execute_result"
    }
   ],
   "source": [
    "text"
   ]
  },
  {
   "cell_type": "code",
   "execution_count": 106,
   "id": "e7534ff2",
   "metadata": {},
   "outputs": [
    {
     "data": {
      "text/plain": [
       "'1번째\\n2번째\\n3번째\\n4번째\\n'"
      ]
     },
     "execution_count": 106,
     "metadata": {},
     "output_type": "execute_result"
    }
   ],
   "source": [
    "with open('test.txt','r',encoding='utf-8') as file:\n",
    "    text = file.read()\n",
    "text"
   ]
  },
  {
   "cell_type": "code",
   "execution_count": 123,
   "id": "71352446",
   "metadata": {},
   "outputs": [],
   "source": [
    "f = open('test.txt',encoding='utf-8')"
   ]
  },
  {
   "cell_type": "code",
   "execution_count": 124,
   "id": "49900cf1",
   "metadata": {},
   "outputs": [],
   "source": [
    "text = f.readline()"
   ]
  },
  {
   "cell_type": "code",
   "execution_count": 136,
   "id": "82277314",
   "metadata": {},
   "outputs": [
    {
     "name": "stdout",
     "output_type": "stream",
     "text": [
      "4번째\n",
      "\n"
     ]
    }
   ],
   "source": [
    "print(f.readline())"
   ]
  },
  {
   "cell_type": "code",
   "execution_count": 112,
   "id": "17d84b35",
   "metadata": {},
   "outputs": [
    {
     "name": "stdout",
     "output_type": "stream",
     "text": [
      "2번째\n",
      "\n",
      "3번째\n",
      "\n",
      "4번째\n",
      "\n"
     ]
    }
   ],
   "source": [
    "while True:\n",
    "    line = f.readline()\n",
    "    if not line : \n",
    "        break\n",
    "    print(line)"
   ]
  },
  {
   "cell_type": "code",
   "execution_count": 139,
   "id": "586d778d",
   "metadata": {},
   "outputs": [
    {
     "data": {
      "text/plain": [
       "'1\\n2\\n3\\n4\\n5\\n56\\n7\\n78\\n9\\n90\\n11\\n12\\n13\\n'"
      ]
     },
     "execution_count": 139,
     "metadata": {},
     "output_type": "execute_result"
    }
   ],
   "source": [
    "f = open(\"C:\\\\users\\\\admin\\\\python알고리즘\\\\numbers.txt\")\n",
    "data = f.read()\n",
    "f.close()\n",
    "data"
   ]
  },
  {
   "cell_type": "code",
   "execution_count": 143,
   "id": "5137cd6f",
   "metadata": {},
   "outputs": [],
   "source": [
    "f = open(\"C:\\\\Users\\\\admin\\\\python알고리즘\\\\wirte.txt\",'w')\n",
    "f.write('123123\\n112312333333')\n",
    "f.close()"
   ]
  },
  {
   "cell_type": "code",
   "execution_count": 154,
   "id": "d1970a6b",
   "metadata": {},
   "outputs": [
    {
     "data": {
      "text/plain": [
       "'날짜,평균기온(℃),최저기온(℃),최고기온(℃)\\n2021-01-02,-5,-8.4,-1.4\\n2021-01-03,-5.6,-9.1,-2\\n2021-01-04,-3.5,-8.4,0.3\\n2021-01-05,-5.5,-9.9,-2.1\\n2021-01-06,-7.4,-12,-1.9\\n2021-01-07,-14.5,-16.5,-8.4\\n2021-01-08,-14.9,-18.6,-10.7\\n2021-01-09,-12.2,-16.6,-7.5\\n2021-01-10,-7.7,-12.8,-2.7\\n2021-01-11,-6.7,-9.6,-4\\n2021-01-12,-3.9,-9.3,-0.5\\n2021-01-13,2,-3,8.3\\n2021-01-14,1.7,-3.6,7\\n2021-01-15,4.5,-0.7,9.9\\n2021-01-16,-4.9,-8.7,-0.7\\n2021-01-17,-5.5,-10.8,-1.3\\n2021-01-18,-3.8,-9.1,0.2\\n2021-01-19,-6.3,-11.6,-0.2'"
      ]
     },
     "execution_count": 154,
     "metadata": {},
     "output_type": "execute_result"
    }
   ],
   "source": [
    "f= open(\"seoul_기온.csv\")\n",
    "text = f.read()\n",
    "f.close()\n",
    "text"
   ]
  },
  {
   "cell_type": "code",
   "execution_count": 183,
   "id": "cabd49f1",
   "metadata": {},
   "outputs": [],
   "source": [
    "date_list = []\n",
    "dgree_list = []\n",
    "for line in text.split('\\n')[1:]:\n",
    "    date = line.split(',')[0]\n",
    "    dgree = line.split(',')[2]\n",
    "#     print(date , dgree)\n",
    "    date_list.append(date)\n",
    "    dgree_list.append(dgree)\n"
   ]
  },
  {
   "cell_type": "code",
   "execution_count": 182,
   "id": "da3cd73a",
   "metadata": {},
   "outputs": [
    {
     "data": {
      "text/plain": [
       "[<matplotlib.lines.Line2D at 0x2977fdb6090>]"
      ]
     },
     "execution_count": 182,
     "metadata": {},
     "output_type": "execute_result"
    },
    {
     "data": {
      "image/png": "[encoded data removed]",
      "text/plain": [
       "<Figure size 640x480 with 1 Axes>"
      ]
     },
     "metadata": {},
     "output_type": "display_data"
    }
   ],
   "source": [
    "import matplotlib.pyplot as plt\n",
    "plt.plot(dgree_list)"
   ]
  },
  {
   "cell_type": "code",
   "execution_count": 185,
   "id": "34501259",
   "metadata": {},
   "outputs": [],
   "source": [
    "dgree_list =list(map(float,dgree_list))"
   ]
  },
  {
   "cell_type": "code",
   "execution_count": 190,
   "id": "d66fe02b",
   "metadata": {},
   "outputs": [
    {
     "data": {
      "text/plain": [
       "[<matplotlib.lines.Line2D at 0x2971e3b6090>]"
      ]
     },
     "execution_count": 190,
     "metadata": {},
     "output_type": "execute_result"
    },
    {
     "data": {
      "image/png": "[encoded data removed]",
      "text/plain": [
       "<Figure size 640x480 with 1 Axes>"
      ]
     },
     "metadata": {},
     "output_type": "display_data"
    }
   ],
   "source": [
    "import matplotlib.pyplot as plt\n",
    "plt.plot(dgree_list)\n"
   ]
  },
  {
   "cell_type": "code",
   "execution_count": 196,
   "id": "bbee9e48",
   "metadata": {},
   "outputs": [],
   "source": [
    "import requests\n",
    "url = \"https://image-comic.pstatic.net/webtoon/703846/250/20230123222454_b7b28c9d45d9038440c54e7e6d2326a6_IMAG01_1.jpg\"\n",
    "res= requests.get(url)\n",
    "\n",
    "f= open('image.jpg','wb')\n",
    "f.write(res.content)\n",
    "f.close()"
   ]
  },
  {
   "cell_type": "code",
   "execution_count": null,
   "id": "c483a206",
   "metadata": {},
   "outputs": [],
   "source": []
  },
  {
   "cell_type": "code",
   "execution_count": null,
   "id": "4b380d02",
   "metadata": {},
   "outputs": [],
   "source": []
  },
  {
   "cell_type": "code",
   "execution_count": null,
   "id": "becbcba5",
   "metadata": {},
   "outputs": [],
   "source": []
  },
  {
   "cell_type": "code",
   "execution_count": null,
   "id": "9a09dfa3",
   "metadata": {},
   "outputs": [],
   "source": []
  },
  {
   "cell_type": "code",
   "execution_count": null,
   "id": "2a2b189f",
   "metadata": {},
   "outputs": [],
   "source": []
  },
  {
   "cell_type": "code",
   "execution_count": null,
   "id": "0d7f2f6d",
   "metadata": {},
   "outputs": [],
   "source": []
  },
  {
   "cell_type": "code",
   "execution_count": null,
   "id": "e4f385b8",
   "metadata": {},
   "outputs": [],
   "source": []
  },
  {
   "cell_type": "code",
   "execution_count": null,
   "id": "4fbfab68",
   "metadata": {},
   "outputs": [],
   "source": []
  },
  {
   "cell_type": "code",
   "execution_count": null,
   "id": "597717bf",
   "metadata": {},
   "outputs": [],
   "source": []
  },
  {
   "cell_type": "code",
   "execution_count": null,
   "id": "2392e4ba",
   "metadata": {},
   "outputs": [],
   "source": []
  },
  {
   "cell_type": "code",
   "execution_count": null,
   "id": "17c76805",
   "metadata": {},
   "outputs": [],
   "source": []
  },
  {
   "cell_type": "code",
   "execution_count": null,
   "id": "fe39d5b3",
   "metadata": {},
   "outputs": [],
   "source": []
  },
  {
   "cell_type": "code",
   "execution_count": null,
   "id": "0096b884",
   "metadata": {},
   "outputs": [],
   "source": []
  },
  {
   "cell_type": "code",
   "execution_count": null,
   "id": "2e98ef30",
   "metadata": {},
   "outputs": [],
   "source": []
  },
  {
   "cell_type": "code",
   "execution_count": null,
   "id": "0e2d8f39",
   "metadata": {},
   "outputs": [],
   "source": []
  },
  {
   "cell_type": "code",
   "execution_count": null,
   "id": "70dcd17a",
   "metadata": {},
   "outputs": [],
   "source": []
  },
  {
   "cell_type": "code",
   "execution_count": null,
   "id": "ccf187ce",
   "metadata": {},
   "outputs": [],
   "source": []
  },
  {
   "cell_type": "code",
   "execution_count": null,
   "id": "10e5aa8e",
   "metadata": {},
   "outputs": [],
   "source": []
  },
  {
   "cell_type": "code",
   "execution_count": null,
   "id": "997bf01d",
   "metadata": {},
   "outputs": [],
   "source": []
  },
  {
   "cell_type": "code",
   "execution_count": null,
   "id": "83a5524a",
   "metadata": {},
   "outputs": [],
   "source": []
  },
  {
   "cell_type": "code",
   "execution_count": null,
   "id": "e50a12fa",
   "metadata": {},
   "outputs": [],
   "source": []
  },
  {
   "cell_type": "code",
   "execution_count": null,
   "id": "95a07afe",
   "metadata": {},
   "outputs": [],
   "source": []
  },
  {
   "cell_type": "code",
   "execution_count": null,
   "id": "91a06e79",
   "metadata": {},
   "outputs": [],
   "source": []
  },
  {
   "cell_type": "code",
   "execution_count": null,
   "id": "9279d3d9",
   "metadata": {},
   "outputs": [],
   "source": []
  },
  {
   "cell_type": "code",
   "execution_count": null,
   "id": "a77785dc",
   "metadata": {},
   "outputs": [],
   "source": []
  },
  {
   "cell_type": "code",
   "execution_count": null,
   "id": "1c5a13ec",
   "metadata": {},
   "outputs": [],
   "source": []
  },
  {
   "cell_type": "code",
   "execution_count": null,
   "id": "722d1832",
   "metadata": {},
   "outputs": [],
   "source": []
  },
  {
   "cell_type": "code",
   "execution_count": null,
   "id": "2cc2f5f7",
   "metadata": {},
   "outputs": [],
   "source": []
  },
  {
   "cell_type": "code",
   "execution_count": null,
   "id": "ff64de8a",
   "metadata": {},
   "outputs": [],
   "source": []
  },
  {
   "cell_type": "code",
   "execution_count": null,
   "id": "aef3c9c5",
   "metadata": {},
   "outputs": [],
   "source": []
  },
  {
   "cell_type": "code",
   "execution_count": null,
   "id": "e7ae2844",
   "metadata": {},
   "outputs": [],
   "source": []
  },
  {
   "cell_type": "code",
   "execution_count": null,
   "id": "6710eb86",
   "metadata": {},
   "outputs": [],
   "source": []
  },
  {
   "cell_type": "code",
   "execution_count": null,
   "id": "afc52c24",
   "metadata": {},
   "outputs": [],
   "source": []
  },
  {
   "cell_type": "code",
   "execution_count": null,
   "id": "b23f2a5c",
   "metadata": {},
   "outputs": [],
   "source": []
  },
  {
   "cell_type": "code",
   "execution_count": null,
   "id": "ac4f533e",
   "metadata": {},
   "outputs": [],
   "source": []
  },
  {
   "cell_type": "code",
   "execution_count": null,
   "id": "bc288352",
   "metadata": {},
   "outputs": [],
   "source": []
  },
  {
   "cell_type": "code",
   "execution_count": null,
   "id": "d60ce5bd",
   "metadata": {},
   "outputs": [],
   "source": []
  },
  {
   "cell_type": "code",
   "execution_count": null,
   "id": "f1d4454f",
   "metadata": {},
   "outputs": [],
   "source": []
  },
  {
   "cell_type": "code",
   "execution_count": null,
   "id": "a0244254",
   "metadata": {},
   "outputs": [],
   "source": []
  },
  {
   "cell_type": "code",
   "execution_count": null,
   "id": "9b75a448",
   "metadata": {},
   "outputs": [],
   "source": []
  },
  {
   "cell_type": "code",
   "execution_count": null,
   "id": "160e86f8",
   "metadata": {},
   "outputs": [],
   "source": []
  },
  {
   "cell_type": "code",
   "execution_count": null,
   "id": "209f5859",
   "metadata": {},
   "outputs": [],
   "source": []
  },
  {
   "cell_type": "code",
   "execution_count": null,
   "id": "75caf079",
   "metadata": {},
   "outputs": [],
   "source": []
  },
  {
   "cell_type": "code",
   "execution_count": null,
   "id": "69023e4e",
   "metadata": {},
   "outputs": [],
   "source": []
  },
  {
   "cell_type": "code",
   "execution_count": null,
   "id": "fcb3dd5f",
   "metadata": {},
   "outputs": [],
   "source": []
  },
  {
   "cell_type": "code",
   "execution_count": null,
   "id": "83f13f88",
   "metadata": {},
   "outputs": [],
   "source": []
  },
  {
   "cell_type": "code",
   "execution_count": null,
   "id": "ab3650de",
   "metadata": {},
   "outputs": [],
   "source": []
  },
  {
   "cell_type": "code",
   "execution_count": null,
   "id": "62c92408",
   "metadata": {},
   "outputs": [],
   "source": []
  },
  {
   "cell_type": "code",
   "execution_count": null,
   "id": "308d4b99",
   "metadata": {},
   "outputs": [],
   "source": []
  },
  {
   "cell_type": "code",
   "execution_count": null,
   "id": "5cf5ec88",
   "metadata": {},
   "outputs": [],
   "source": []
  },
  {
   "cell_type": "code",
   "execution_count": null,
   "id": "9dd795e6",
   "metadata": {},
   "outputs": [],
   "source": []
  },
  {
   "cell_type": "code",
   "execution_count": null,
   "id": "6d090b76",
   "metadata": {},
   "outputs": [],
   "source": []
  },
  {
   "cell_type": "code",
   "execution_count": null,
   "id": "664f3242",
   "metadata": {},
   "outputs": [],
   "source": []
  },
  {
   "cell_type": "code",
   "execution_count": null,
   "id": "e75f3389",
   "metadata": {},
   "outputs": [],
   "source": []
  },
  {
   "cell_type": "code",
   "execution_count": null,
   "id": "8f4754ce",
   "metadata": {},
   "outputs": [],
   "source": []
  },
  {
   "cell_type": "code",
   "execution_count": null,
   "id": "b01aab01",
   "metadata": {},
   "outputs": [],
   "source": []
  },
  {
   "cell_type": "code",
   "execution_count": null,
   "id": "a04a866c",
   "metadata": {},
   "outputs": [],
   "source": []
  },
  {
   "cell_type": "code",
   "execution_count": null,
   "id": "7400df91",
   "metadata": {},
   "outputs": [],
   "source": []
  },
  {
   "cell_type": "code",
   "execution_count": null,
   "id": "56f8d427",
   "metadata": {},
   "outputs": [],
   "source": []
  },
  {
   "cell_type": "code",
   "execution_count": null,
   "id": "6242f559",
   "metadata": {},
   "outputs": [],
   "source": []
  },
  {
   "cell_type": "code",
   "execution_count": null,
   "id": "85ced5a6",
   "metadata": {},
   "outputs": [],
   "source": []
  },
  {
   "cell_type": "code",
   "execution_count": null,
   "id": "52fcd617",
   "metadata": {},
   "outputs": [],
   "source": []
  },
  {
   "cell_type": "code",
   "execution_count": null,
   "id": "f1d37ef9",
   "metadata": {},
   "outputs": [],
   "source": []
  },
  {
   "cell_type": "code",
   "execution_count": null,
   "id": "6ec159d2",
   "metadata": {},
   "outputs": [],
   "source": []
  },
  {
   "cell_type": "code",
   "execution_count": null,
   "id": "48a5cfa9",
   "metadata": {},
   "outputs": [],
   "source": []
  },
  {
   "cell_type": "code",
   "execution_count": null,
   "id": "337c7150",
   "metadata": {},
   "outputs": [],
   "source": []
  },
  {
   "cell_type": "code",
   "execution_count": null,
   "id": "1279cf11",
   "metadata": {},
   "outputs": [],
   "source": []
  },
  {
   "cell_type": "code",
   "execution_count": null,
   "id": "850e0b32",
   "metadata": {},
   "outputs": [],
   "source": []
  }
 ],
 "metadata": {
  "kernelspec": {
   "display_name": "Python 3 (ipykernel)",
   "language": "python",
   "name": "python3"
  },
  "language_info": {
   "codemirror_mode": {
    "name": "ipython",
    "version": 3
   },
   "file_extension": ".py",
   "mimetype": "text/x-python",
   "name": "python",
   "nbconvert_exporter": "python",
   "pygments_lexer": "ipython3",
   "version": "3.11.1"
  }
 },
 "nbformat": 4,
 "nbformat_minor": 5
}
